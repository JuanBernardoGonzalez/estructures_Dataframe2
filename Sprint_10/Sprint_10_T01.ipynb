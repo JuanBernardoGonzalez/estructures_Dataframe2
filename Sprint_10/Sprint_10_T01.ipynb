{
 "cells": [
  {
   "cell_type": "markdown",
   "id": "31dace54",
   "metadata": {},
   "source": [
    "# <center> Sprint 10 </center>"
   ]
  },
  {
   "cell_type": "code",
   "execution_count": 1,
   "id": "722f755a",
   "metadata": {},
   "outputs": [],
   "source": [
    "import requests\n",
    "import pandas as pd\n",
    "from bs4 import BeautifulSoup\n",
    "import csv\n",
    "from datetime import datetime\n",
    "from selenium import webdriver\n",
    "from selenium.webdriver import Chrome\n",
    "from selenium.webdriver.common.by import By\n",
    "import time\n",
    "import warnings\n",
    "warnings.filterwarnings(\"ignore\")"
   ]
  },
  {
   "cell_type": "markdown",
   "id": "c56796b6",
   "metadata": {},
   "source": [
    "###  <center> Ejercicio 1 </center>"
   ]
  },
  {
   "cell_type": "markdown",
   "id": "6f409f09",
   "metadata": {},
   "source": [
    "**<center> Web scraping de \"quotes.toscrape\" utilitzando BeautifulSoup. </center>**"
   ]
  },
  {
   "cell_type": "markdown",
   "id": "c1df5749",
   "metadata": {},
   "source": [
    "- Guardo la url y compruebo su status"
   ]
  },
  {
   "cell_type": "code",
   "execution_count": 2,
   "id": "fa60fe0a",
   "metadata": {},
   "outputs": [],
   "source": [
    "url='http://quotes.toscrape.com/'\n",
    "resp=requests.get(url)"
   ]
  },
  {
   "cell_type": "raw",
   "id": "83360e90",
   "metadata": {},
   "source": [
    "resp"
   ]
  },
  {
   "cell_type": "markdown",
   "id": "98243cc8",
   "metadata": {},
   "source": [
    "La solicitud es existosa, el status code está entre 200 y 209. "
   ]
  },
  {
   "cell_type": "markdown",
   "id": "f30c5996",
   "metadata": {},
   "source": [
    "- Obtengo el documento html con beautifulsoup usando html.parser para pasar la página web."
   ]
  },
  {
   "cell_type": "code",
   "execution_count": 3,
   "id": "efe1266c",
   "metadata": {},
   "outputs": [
    {
     "data": {
      "text/plain": [
       "bs4.BeautifulSoup"
      ]
     },
     "execution_count": 3,
     "metadata": {},
     "output_type": "execute_result"
    }
   ],
   "source": [
    "doc = BeautifulSoup(resp.text,'html.parser')\n",
    "type(doc)"
   ]
  },
  {
   "cell_type": "markdown",
   "id": "fbb5fd56",
   "metadata": {},
   "source": [
    "Revisando la el contenedor con la información de las citas, encontramos una etiqueta \"div\" para cada cita, con la \"class\" \"quote\". Busco entonces todas las etiquetas \"div\" que tienen \"class\" \"quote\".  "
   ]
  },
  {
   "cell_type": "code",
   "execution_count": 4,
   "id": "11ede893",
   "metadata": {},
   "outputs": [
    {
     "data": {
      "text/plain": [
       "10"
      ]
     },
     "execution_count": 4,
     "metadata": {},
     "output_type": "execute_result"
    }
   ],
   "source": [
    "div_etiqu =doc.find_all('div',class_='quote')\n",
    "len(div_etiqu)"
   ]
  },
  {
   "cell_type": "markdown",
   "id": "26371eca",
   "metadata": {},
   "source": [
    "Cada página tiene 10 \"quotes\". div_etiqu contiene información como citas, nombre del autor, enlaces a la bibliografía del autor o etiquetas. \n",
    "- Voy a extraer las citas de la primera página. "
   ]
  },
  {
   "cell_type": "code",
   "execution_count": 5,
   "id": "cd1844ad",
   "metadata": {},
   "outputs": [],
   "source": [
    "def get_citas(div_etiqu):\n",
    "    citas=[]\n",
    "    for tag in div_etiqu:\n",
    "        cita=tag.find('span',class_='text').text\n",
    "        citas.append(cita)\n",
    "    return citas  "
   ]
  },
  {
   "cell_type": "code",
   "execution_count": 6,
   "id": "4f919b8a",
   "metadata": {},
   "outputs": [
    {
     "data": {
      "text/plain": [
       "['“The world as we have created it is a process of our thinking. It cannot be changed without changing our thinking.”',\n",
       " '“It is our choices, Harry, that show what we truly are, far more than our abilities.”',\n",
       " '“There are only two ways to live your life. One is as though nothing is a miracle. The other is as though everything is a miracle.”',\n",
       " '“The person, be it gentleman or lady, who has not pleasure in a good novel, must be intolerably stupid.”',\n",
       " \"“Imperfection is beauty, madness is genius and it's better to be absolutely ridiculous than absolutely boring.”\",\n",
       " '“Try not to become a man of success. Rather become a man of value.”',\n",
       " '“It is better to be hated for what you are than to be loved for what you are not.”',\n",
       " \"“I have not failed. I've just found 10,000 ways that won't work.”\",\n",
       " \"“A woman is like a tea bag; you never know how strong it is until it's in hot water.”\",\n",
       " '“A day without sunshine is like, you know, night.”']"
      ]
     },
     "execution_count": 6,
     "metadata": {},
     "output_type": "execute_result"
    }
   ],
   "source": [
    "get_citas(div_etiqu)"
   ]
  },
  {
   "cell_type": "markdown",
   "id": "685f2a85",
   "metadata": {},
   "source": [
    "- Obtengo el nombre del autor de las 10 citas. \n",
    "\n",
    "Se encuentran en la etiqueta \"small\" con \"class=author\" que está dentro de la etiqueta \"span\" con \"class\" None."
   ]
  },
  {
   "cell_type": "code",
   "execution_count": 7,
   "id": "e4c70a19",
   "metadata": {},
   "outputs": [],
   "source": [
    "def get_nombre(div_etiqu):\n",
    "    autores=[]\n",
    "    for tag in div_etiqu:\n",
    "        span_tag=tag.find('span',class_=None)\n",
    "        autor=span_tag.find('small',class_='author').text\n",
    "        autores.append(autor)\n",
    "    return autores "
   ]
  },
  {
   "cell_type": "markdown",
   "id": "c59fadd8",
   "metadata": {},
   "source": [
    "- Con el mismo procedimiento obtengo las etiquetas de las citas y los links a la biografia de los autores de una página.\n",
    "    - Las etiquetas de las citas están en una etiqueta \"meta\" con atributo \"content\" el cual está dentro de la etiqueta \"div\" con \"class=tag\". \n",
    "    - Los links de la biografía del autor están dentro de una etiqueta con atributo \"href\" que a su vez está dentro de una etiqueta \"span\" con \"class=None\". "
   ]
  },
  {
   "cell_type": "code",
   "execution_count": 8,
   "id": "1dd732af",
   "metadata": {},
   "outputs": [],
   "source": [
    "def get_etiqcita(div_etiqu):\n",
    "    nombre_etiquetas=[]\n",
    "    for tag in div_etiqu:\n",
    "        nombre_etiqueta=tag.find('div',class_='tags').meta['content']\n",
    "        nombre_etiquetas.append(nombre_etiqueta)\n",
    "    return nombre_etiquetas"
   ]
  },
  {
   "cell_type": "code",
   "execution_count": 9,
   "id": "0d2bf16f",
   "metadata": {},
   "outputs": [],
   "source": [
    "def get_url_autor(div_etiqu):\n",
    "    autor_links=[]\n",
    "    for tag in div_etiqu:\n",
    "        span_tag=tag.find('span',class_=None)\n",
    "        autor_link='http://quotes.toscrape.com'+span_tag.find('a')['href']\n",
    "        autor_links.append(autor_link)\n",
    "    return autor_links"
   ]
  },
  {
   "cell_type": "markdown",
   "id": "92b1f53e",
   "metadata": {},
   "source": [
    "- Hago una lista de diccionarios combinando las listas obtenidas. "
   ]
  },
  {
   "cell_type": "code",
   "execution_count": 10,
   "id": "9609aeff",
   "metadata": {},
   "outputs": [],
   "source": [
    "def list_of_dict(citas_lista,nombre_autor,urls,nombre_etiqueta):\n",
    "    return [{'Citas': citas_lista[i],\n",
    "             'Autor': nombre_autor[i],\n",
    "             'Etiquetas': nombre_etiqueta[i],\n",
    "             'Link': urls[i]} for i in range(len(citas_lista))]\n",
    "citas_dict=list_of_dict(get_citas(div_etiqu),get_nombre(div_etiqu),get_url_autor(div_etiqu),get_etiqcita(div_etiqu))"
   ]
  },
  {
   "cell_type": "markdown",
   "id": "7c772e12",
   "metadata": {},
   "source": [
    "- Convierto el diccionario en un dataframe de pandas"
   ]
  },
  {
   "cell_type": "code",
   "execution_count": 11,
   "id": "64bfb46c",
   "metadata": {},
   "outputs": [
    {
     "data": {
      "text/html": [
       "<div>\n",
       "<style scoped>\n",
       "    .dataframe tbody tr th:only-of-type {\n",
       "        vertical-align: middle;\n",
       "    }\n",
       "\n",
       "    .dataframe tbody tr th {\n",
       "        vertical-align: top;\n",
       "    }\n",
       "\n",
       "    .dataframe thead th {\n",
       "        text-align: right;\n",
       "    }\n",
       "</style>\n",
       "<table border=\"1\" class=\"dataframe\">\n",
       "  <thead>\n",
       "    <tr style=\"text-align: right;\">\n",
       "      <th></th>\n",
       "      <th>Citas</th>\n",
       "      <th>Autor</th>\n",
       "      <th>Etiquetas</th>\n",
       "      <th>Link</th>\n",
       "    </tr>\n",
       "  </thead>\n",
       "  <tbody>\n",
       "    <tr>\n",
       "      <th>0</th>\n",
       "      <td>“The world as we have created it is a process ...</td>\n",
       "      <td>Albert Einstein</td>\n",
       "      <td>change,deep-thoughts,thinking,world</td>\n",
       "      <td>http://quotes.toscrape.com/author/Albert-Einstein</td>\n",
       "    </tr>\n",
       "    <tr>\n",
       "      <th>1</th>\n",
       "      <td>“It is our choices, Harry, that show what we t...</td>\n",
       "      <td>J.K. Rowling</td>\n",
       "      <td>abilities,choices</td>\n",
       "      <td>http://quotes.toscrape.com/author/J-K-Rowling</td>\n",
       "    </tr>\n",
       "    <tr>\n",
       "      <th>2</th>\n",
       "      <td>“There are only two ways to live your life. On...</td>\n",
       "      <td>Albert Einstein</td>\n",
       "      <td>inspirational,life,live,miracle,miracles</td>\n",
       "      <td>http://quotes.toscrape.com/author/Albert-Einstein</td>\n",
       "    </tr>\n",
       "    <tr>\n",
       "      <th>3</th>\n",
       "      <td>“The person, be it gentleman or lady, who has ...</td>\n",
       "      <td>Jane Austen</td>\n",
       "      <td>aliteracy,books,classic,humor</td>\n",
       "      <td>http://quotes.toscrape.com/author/Jane-Austen</td>\n",
       "    </tr>\n",
       "    <tr>\n",
       "      <th>4</th>\n",
       "      <td>“Imperfection is beauty, madness is genius and...</td>\n",
       "      <td>Marilyn Monroe</td>\n",
       "      <td>be-yourself,inspirational</td>\n",
       "      <td>http://quotes.toscrape.com/author/Marilyn-Monroe</td>\n",
       "    </tr>\n",
       "    <tr>\n",
       "      <th>5</th>\n",
       "      <td>“Try not to become a man of success. Rather be...</td>\n",
       "      <td>Albert Einstein</td>\n",
       "      <td>adulthood,success,value</td>\n",
       "      <td>http://quotes.toscrape.com/author/Albert-Einstein</td>\n",
       "    </tr>\n",
       "    <tr>\n",
       "      <th>6</th>\n",
       "      <td>“It is better to be hated for what you are tha...</td>\n",
       "      <td>André Gide</td>\n",
       "      <td>life,love</td>\n",
       "      <td>http://quotes.toscrape.com/author/Andre-Gide</td>\n",
       "    </tr>\n",
       "    <tr>\n",
       "      <th>7</th>\n",
       "      <td>“I have not failed. I've just found 10,000 way...</td>\n",
       "      <td>Thomas A. Edison</td>\n",
       "      <td>edison,failure,inspirational,paraphrased</td>\n",
       "      <td>http://quotes.toscrape.com/author/Thomas-A-Edison</td>\n",
       "    </tr>\n",
       "    <tr>\n",
       "      <th>8</th>\n",
       "      <td>“A woman is like a tea bag; you never know how...</td>\n",
       "      <td>Eleanor Roosevelt</td>\n",
       "      <td>misattributed-eleanor-roosevelt</td>\n",
       "      <td>http://quotes.toscrape.com/author/Eleanor-Roos...</td>\n",
       "    </tr>\n",
       "    <tr>\n",
       "      <th>9</th>\n",
       "      <td>“A day without sunshine is like, you know, nig...</td>\n",
       "      <td>Steve Martin</td>\n",
       "      <td>humor,obvious,simile</td>\n",
       "      <td>http://quotes.toscrape.com/author/Steve-Martin</td>\n",
       "    </tr>\n",
       "  </tbody>\n",
       "</table>\n",
       "</div>"
      ],
      "text/plain": [
       "                                               Citas              Autor  \\\n",
       "0  “The world as we have created it is a process ...    Albert Einstein   \n",
       "1  “It is our choices, Harry, that show what we t...       J.K. Rowling   \n",
       "2  “There are only two ways to live your life. On...    Albert Einstein   \n",
       "3  “The person, be it gentleman or lady, who has ...        Jane Austen   \n",
       "4  “Imperfection is beauty, madness is genius and...     Marilyn Monroe   \n",
       "5  “Try not to become a man of success. Rather be...    Albert Einstein   \n",
       "6  “It is better to be hated for what you are tha...         André Gide   \n",
       "7  “I have not failed. I've just found 10,000 way...   Thomas A. Edison   \n",
       "8  “A woman is like a tea bag; you never know how...  Eleanor Roosevelt   \n",
       "9  “A day without sunshine is like, you know, nig...       Steve Martin   \n",
       "\n",
       "                                  Etiquetas  \\\n",
       "0       change,deep-thoughts,thinking,world   \n",
       "1                         abilities,choices   \n",
       "2  inspirational,life,live,miracle,miracles   \n",
       "3             aliteracy,books,classic,humor   \n",
       "4                 be-yourself,inspirational   \n",
       "5                   adulthood,success,value   \n",
       "6                                 life,love   \n",
       "7  edison,failure,inspirational,paraphrased   \n",
       "8           misattributed-eleanor-roosevelt   \n",
       "9                      humor,obvious,simile   \n",
       "\n",
       "                                                Link  \n",
       "0  http://quotes.toscrape.com/author/Albert-Einstein  \n",
       "1      http://quotes.toscrape.com/author/J-K-Rowling  \n",
       "2  http://quotes.toscrape.com/author/Albert-Einstein  \n",
       "3      http://quotes.toscrape.com/author/Jane-Austen  \n",
       "4   http://quotes.toscrape.com/author/Marilyn-Monroe  \n",
       "5  http://quotes.toscrape.com/author/Albert-Einstein  \n",
       "6       http://quotes.toscrape.com/author/Andre-Gide  \n",
       "7  http://quotes.toscrape.com/author/Thomas-A-Edison  \n",
       "8  http://quotes.toscrape.com/author/Eleanor-Roos...  \n",
       "9     http://quotes.toscrape.com/author/Steve-Martin  "
      ]
     },
     "execution_count": 11,
     "metadata": {},
     "output_type": "execute_result"
    }
   ],
   "source": [
    "Citas = pd.DataFrame(citas_dict)\n",
    "Citas"
   ]
  },
  {
   "cell_type": "markdown",
   "id": "3694ca44",
   "metadata": {},
   "source": [
    "**<center> Web scraping de \"quotes.toscrape\" utilitzando Selenium.**</center>"
   ]
  },
  {
   "cell_type": "markdown",
   "id": "24ff7cd5",
   "metadata": {},
   "source": [
    "- Almaceno el sitio web en una variable"
   ]
  },
  {
   "cell_type": "code",
   "execution_count": 12,
   "id": "a51fc3a0",
   "metadata": {},
   "outputs": [],
   "source": [
    "url = ('http://quotes.toscrape.com')"
   ]
  },
  {
   "cell_type": "markdown",
   "id": "77f343a6",
   "metadata": {},
   "source": [
    "- Inicio el Chromedriver, abro el sitio web y maximizo la ventana"
   ]
  },
  {
   "cell_type": "code",
   "execution_count": 13,
   "id": "6dbb988c",
   "metadata": {},
   "outputs": [],
   "source": [
    "driver = webdriver.Chrome()\n",
    "driver.get(url)\n",
    "driver.maximize_window()"
   ]
  },
  {
   "cell_type": "markdown",
   "id": "45ecff54",
   "metadata": {},
   "source": [
    "- Creo mis localizadores y los pruebo"
   ]
  },
  {
   "cell_type": "code",
   "execution_count": 14,
   "id": "00bbd9e3",
   "metadata": {},
   "outputs": [],
   "source": [
    "Citas = driver.find_elements(by=By.XPATH, value=\"//div[@class='quote']/span[@class='text']\")\n",
    "Autores = driver.find_elements(by=By.XPATH, value=\"//div[@class='quote']/span[2]/small\")\n",
    "Tags = driver.find_elements(by=By.XPATH, value=\"//div[@class='quote']/div[@class='tags']\")"
   ]
  },
  {
   "cell_type": "code",
   "execution_count": 15,
   "id": "d404d0b5",
   "metadata": {},
   "outputs": [
    {
     "name": "stdout",
     "output_type": "stream",
     "text": [
      "“The world as we have created it is a process of our thinking. It cannot be changed without changing our thinking.”\n",
      "“It is our choices, Harry, that show what we truly are, far more than our abilities.”\n",
      "“There are only two ways to live your life. One is as though nothing is a miracle. The other is as though everything is a miracle.”\n",
      "“The person, be it gentleman or lady, who has not pleasure in a good novel, must be intolerably stupid.”\n",
      "“Imperfection is beauty, madness is genius and it's better to be absolutely ridiculous than absolutely boring.”\n",
      "“Try not to become a man of success. Rather become a man of value.”\n",
      "“It is better to be hated for what you are than to be loved for what you are not.”\n",
      "“I have not failed. I've just found 10,000 ways that won't work.”\n",
      "“A woman is like a tea bag; you never know how strong it is until it's in hot water.”\n",
      "“A day without sunshine is like, you know, night.”\n"
     ]
    }
   ],
   "source": [
    "for c in Citas:\n",
    "    print(c.text)"
   ]
  },
  {
   "cell_type": "markdown",
   "id": "609588b0",
   "metadata": {},
   "source": [
    "- Construyo el dataframe"
   ]
  },
  {
   "cell_type": "code",
   "execution_count": 16,
   "id": "a5a5c830-a99b-44a2-b5e3-ebbdbbd03811",
   "metadata": {},
   "outputs": [
    {
     "data": {
      "text/html": [
       "<div>\n",
       "<style scoped>\n",
       "    .dataframe tbody tr th:only-of-type {\n",
       "        vertical-align: middle;\n",
       "    }\n",
       "\n",
       "    .dataframe tbody tr th {\n",
       "        vertical-align: top;\n",
       "    }\n",
       "\n",
       "    .dataframe thead th {\n",
       "        text-align: right;\n",
       "    }\n",
       "</style>\n",
       "<table border=\"1\" class=\"dataframe\">\n",
       "  <thead>\n",
       "    <tr style=\"text-align: right;\">\n",
       "      <th></th>\n",
       "      <th>Citas</th>\n",
       "      <th>Autores</th>\n",
       "      <th>Etiquetas</th>\n",
       "    </tr>\n",
       "  </thead>\n",
       "  <tbody>\n",
       "    <tr>\n",
       "      <th>0</th>\n",
       "      <td>“The world as we have created it is a process ...</td>\n",
       "      <td>Albert Einstein</td>\n",
       "      <td>Tags: change deep-thoughts thinking world</td>\n",
       "    </tr>\n",
       "    <tr>\n",
       "      <th>1</th>\n",
       "      <td>“It is our choices, Harry, that show what we t...</td>\n",
       "      <td>J.K. Rowling</td>\n",
       "      <td>Tags: abilities choices</td>\n",
       "    </tr>\n",
       "    <tr>\n",
       "      <th>2</th>\n",
       "      <td>“There are only two ways to live your life. On...</td>\n",
       "      <td>Albert Einstein</td>\n",
       "      <td>Tags: inspirational life live miracle miracles</td>\n",
       "    </tr>\n",
       "    <tr>\n",
       "      <th>3</th>\n",
       "      <td>“The person, be it gentleman or lady, who has ...</td>\n",
       "      <td>Jane Austen</td>\n",
       "      <td>Tags: aliteracy books classic humor</td>\n",
       "    </tr>\n",
       "    <tr>\n",
       "      <th>4</th>\n",
       "      <td>“Imperfection is beauty, madness is genius and...</td>\n",
       "      <td>Marilyn Monroe</td>\n",
       "      <td>Tags: be-yourself inspirational</td>\n",
       "    </tr>\n",
       "    <tr>\n",
       "      <th>5</th>\n",
       "      <td>“Try not to become a man of success. Rather be...</td>\n",
       "      <td>Albert Einstein</td>\n",
       "      <td>Tags: adulthood success value</td>\n",
       "    </tr>\n",
       "    <tr>\n",
       "      <th>6</th>\n",
       "      <td>“It is better to be hated for what you are tha...</td>\n",
       "      <td>André Gide</td>\n",
       "      <td>Tags: life love</td>\n",
       "    </tr>\n",
       "    <tr>\n",
       "      <th>7</th>\n",
       "      <td>“I have not failed. I've just found 10,000 way...</td>\n",
       "      <td>Thomas A. Edison</td>\n",
       "      <td>Tags: edison failure inspirational paraphrased</td>\n",
       "    </tr>\n",
       "    <tr>\n",
       "      <th>8</th>\n",
       "      <td>“A woman is like a tea bag; you never know how...</td>\n",
       "      <td>Eleanor Roosevelt</td>\n",
       "      <td>Tags: misattributed-eleanor-roosevelt</td>\n",
       "    </tr>\n",
       "    <tr>\n",
       "      <th>9</th>\n",
       "      <td>“A day without sunshine is like, you know, nig...</td>\n",
       "      <td>Steve Martin</td>\n",
       "      <td>Tags: humor obvious simile</td>\n",
       "    </tr>\n",
       "  </tbody>\n",
       "</table>\n",
       "</div>"
      ],
      "text/plain": [
       "                                               Citas            Autores  \\\n",
       "0  “The world as we have created it is a process ...    Albert Einstein   \n",
       "1  “It is our choices, Harry, that show what we t...       J.K. Rowling   \n",
       "2  “There are only two ways to live your life. On...    Albert Einstein   \n",
       "3  “The person, be it gentleman or lady, who has ...        Jane Austen   \n",
       "4  “Imperfection is beauty, madness is genius and...     Marilyn Monroe   \n",
       "5  “Try not to become a man of success. Rather be...    Albert Einstein   \n",
       "6  “It is better to be hated for what you are tha...         André Gide   \n",
       "7  “I have not failed. I've just found 10,000 way...   Thomas A. Edison   \n",
       "8  “A woman is like a tea bag; you never know how...  Eleanor Roosevelt   \n",
       "9  “A day without sunshine is like, you know, nig...       Steve Martin   \n",
       "\n",
       "                                        Etiquetas  \n",
       "0       Tags: change deep-thoughts thinking world  \n",
       "1                         Tags: abilities choices  \n",
       "2  Tags: inspirational life live miracle miracles  \n",
       "3             Tags: aliteracy books classic humor  \n",
       "4                 Tags: be-yourself inspirational  \n",
       "5                   Tags: adulthood success value  \n",
       "6                                 Tags: life love  \n",
       "7  Tags: edison failure inspirational paraphrased  \n",
       "8           Tags: misattributed-eleanor-roosevelt  \n",
       "9                      Tags: humor obvious simile  "
      ]
     },
     "execution_count": 16,
     "metadata": {},
     "output_type": "execute_result"
    }
   ],
   "source": [
    "dfs = []\n",
    "\n",
    "for i in range(len(Citas)):\n",
    "    data = {'Citas': Citas[i].text, 'Autores': Autores[i].text, 'Etiquetas': Tags[i].text}\n",
    "    df_row = pd.DataFrame(data, index=[0]) \n",
    "    dfs.append(df_row)\n",
    "\n",
    "df = pd.concat(dfs, ignore_index=True)\n",
    "\n",
    "df"
   ]
  },
  {
   "cell_type": "markdown",
   "id": "35e36f87",
   "metadata": {},
   "source": [
    "- Cierro el navegador para terminar la sesión "
   ]
  },
  {
   "cell_type": "code",
   "execution_count": 17,
   "id": "ccca9d5d",
   "metadata": {},
   "outputs": [],
   "source": [
    "driver.close()"
   ]
  },
  {
   "cell_type": "markdown",
   "id": "0df9aa93",
   "metadata": {},
   "source": [
    "**<center>Extraigo la lista de los 100 edificios más altos del mundo de la Wikipedia utilizando Selenium</center>**"
   ]
  },
  {
   "cell_type": "markdown",
   "id": "d915f028",
   "metadata": {},
   "source": [
    "- Almaceno el sitio web en la variable url2"
   ]
  },
  {
   "cell_type": "code",
   "execution_count": 18,
   "id": "52745e82",
   "metadata": {},
   "outputs": [],
   "source": [
    "url2 = ('https://es.wikipedia.org/wiki/Anexo:Rascacielos_m%C3%A1s_altos_del_mundo')"
   ]
  },
  {
   "cell_type": "markdown",
   "id": "b93b86ef",
   "metadata": {},
   "source": [
    "- Inicio el Chromedriver, abro el sitio web y maximizo la ventana"
   ]
  },
  {
   "cell_type": "code",
   "execution_count": 19,
   "id": "ffbad87e",
   "metadata": {},
   "outputs": [],
   "source": [
    "driverr = webdriver.Chrome()\n",
    "driverr.get(url2)\n",
    "driverr.maximize_window()"
   ]
  },
  {
   "cell_type": "markdown",
   "id": "2ab47d20",
   "metadata": {},
   "source": [
    "- Creo mis localizadores y verifico su medida"
   ]
  },
  {
   "cell_type": "code",
   "execution_count": 20,
   "id": "5e57aa99",
   "metadata": {},
   "outputs": [],
   "source": [
    "Nombre = driverr.find_elements(by=By.XPATH, value=\"//table[@class='wikitable sortable jquery-tablesorter'][1]/tbody/tr/td[3]\")\n",
    "Ciudad = driverr.find_elements(by=By.XPATH, value=\"//table[@class='wikitable sortable jquery-tablesorter'][1]/tbody/tr/td[4]\")\n",
    "Pais = driverr.find_elements(by=By.XPATH, value=\"//table[@class='wikitable sortable jquery-tablesorter'][1]/tbody/tr/td[5]\")\n",
    "Altura = driverr.find_elements(by=By.XPATH, value=\"//table[@class='wikitable sortable jquery-tablesorter'][1]/tbody/tr/td[6]\")\n",
    "Pisos = driverr.find_elements(by=By.XPATH, value=\"//table[@class='wikitable sortable jquery-tablesorter'][1]/tbody/tr/td[9]\")\n",
    "Año = driverr.find_elements(by=By.XPATH, value=\"//table[@class='wikitable sortable jquery-tablesorter'][1]/tbody/tr/td[10]\")"
   ]
  },
  {
   "cell_type": "code",
   "execution_count": 21,
   "id": "e11caf3b",
   "metadata": {},
   "outputs": [
    {
     "data": {
      "text/plain": [
       "100"
      ]
     },
     "execution_count": 21,
     "metadata": {},
     "output_type": "execute_result"
    }
   ],
   "source": [
    "len(Pisos)"
   ]
  },
  {
   "cell_type": "markdown",
   "id": "e1713ac4-0ecf-4d94-8952-f20fc79613ae",
   "metadata": {},
   "source": [
    "- Construyo el dataframe final"
   ]
  },
  {
   "cell_type": "code",
   "execution_count": 22,
   "id": "7482187c-9f62-4489-bfdf-534a9c6a0f8b",
   "metadata": {},
   "outputs": [
    {
     "data": {
      "text/html": [
       "<div>\n",
       "<style scoped>\n",
       "    .dataframe tbody tr th:only-of-type {\n",
       "        vertical-align: middle;\n",
       "    }\n",
       "\n",
       "    .dataframe tbody tr th {\n",
       "        vertical-align: top;\n",
       "    }\n",
       "\n",
       "    .dataframe thead th {\n",
       "        text-align: right;\n",
       "    }\n",
       "</style>\n",
       "<table border=\"1\" class=\"dataframe\">\n",
       "  <thead>\n",
       "    <tr style=\"text-align: right;\">\n",
       "      <th></th>\n",
       "      <th>Nombre</th>\n",
       "      <th>Ciudad</th>\n",
       "      <th>Pais</th>\n",
       "      <th>Altura</th>\n",
       "      <th>Pisos</th>\n",
       "      <th>Año</th>\n",
       "    </tr>\n",
       "  </thead>\n",
       "  <tbody>\n",
       "    <tr>\n",
       "      <th>0</th>\n",
       "      <td>Burj Khalifa</td>\n",
       "      <td>Dubái</td>\n",
       "      <td>Emiratos Árabes Unidos</td>\n",
       "      <td>828 m</td>\n",
       "      <td>163</td>\n",
       "      <td>2010</td>\n",
       "    </tr>\n",
       "    <tr>\n",
       "      <th>1</th>\n",
       "      <td>Merdeka 118</td>\n",
       "      <td>Kuala Lumpur</td>\n",
       "      <td>Malasia</td>\n",
       "      <td>679 m</td>\n",
       "      <td>118</td>\n",
       "      <td>2023</td>\n",
       "    </tr>\n",
       "    <tr>\n",
       "      <th>2</th>\n",
       "      <td>Torre de Shanghái</td>\n",
       "      <td>Shanghái</td>\n",
       "      <td>China</td>\n",
       "      <td>632 m</td>\n",
       "      <td>128</td>\n",
       "      <td>2015</td>\n",
       "    </tr>\n",
       "    <tr>\n",
       "      <th>3</th>\n",
       "      <td>Makkah Royal Clock Tower</td>\n",
       "      <td>La Meca</td>\n",
       "      <td>Arabia Saudita</td>\n",
       "      <td>601 m</td>\n",
       "      <td>120</td>\n",
       "      <td>2012</td>\n",
       "    </tr>\n",
       "    <tr>\n",
       "      <th>4</th>\n",
       "      <td>Ping An Finance Center</td>\n",
       "      <td>Shenzhen</td>\n",
       "      <td>China</td>\n",
       "      <td>599 m</td>\n",
       "      <td>115</td>\n",
       "      <td>2017</td>\n",
       "    </tr>\n",
       "    <tr>\n",
       "      <th>...</th>\n",
       "      <td>...</td>\n",
       "      <td>...</td>\n",
       "      <td>...</td>\n",
       "      <td>...</td>\n",
       "      <td>...</td>\n",
       "      <td>...</td>\n",
       "    </tr>\n",
       "    <tr>\n",
       "      <th>95</th>\n",
       "      <td>875 North Michigan Avenue</td>\n",
       "      <td>Chicago</td>\n",
       "      <td>Estados Unidos</td>\n",
       "      <td>344 m</td>\n",
       "      <td>100</td>\n",
       "      <td>1969</td>\n",
       "    </tr>\n",
       "    <tr>\n",
       "      <th>96</th>\n",
       "      <td>Shimao Global Financial Center</td>\n",
       "      <td>Changsha</td>\n",
       "      <td>China</td>\n",
       "      <td>343 m</td>\n",
       "      <td>71</td>\n",
       "      <td>2019</td>\n",
       "    </tr>\n",
       "    <tr>\n",
       "      <th>97</th>\n",
       "      <td>Four Seasons Place Kuala Lumpur</td>\n",
       "      <td>Kuala Lumpur</td>\n",
       "      <td>Malasia</td>\n",
       "      <td>343 m</td>\n",
       "      <td>65</td>\n",
       "      <td>2018</td>\n",
       "    </tr>\n",
       "    <tr>\n",
       "      <th>98</th>\n",
       "      <td>ADNOC Headquarters</td>\n",
       "      <td>Abu Dhabi</td>\n",
       "      <td>Emiratos Árabes Unidos</td>\n",
       "      <td>342 m</td>\n",
       "      <td>65</td>\n",
       "      <td>2015</td>\n",
       "    </tr>\n",
       "    <tr>\n",
       "      <th>99</th>\n",
       "      <td>One Shenzhen Bay Tower 7</td>\n",
       "      <td>Shenzhen</td>\n",
       "      <td>China</td>\n",
       "      <td>341 m</td>\n",
       "      <td>71</td>\n",
       "      <td>2018</td>\n",
       "    </tr>\n",
       "  </tbody>\n",
       "</table>\n",
       "<p>100 rows × 6 columns</p>\n",
       "</div>"
      ],
      "text/plain": [
       "                             Nombre        Ciudad                    Pais  \\\n",
       "0                      Burj Khalifa         Dubái  Emiratos Árabes Unidos   \n",
       "1                       Merdeka 118  Kuala Lumpur                 Malasia   \n",
       "2                 Torre de Shanghái      Shanghái                   China   \n",
       "3          Makkah Royal Clock Tower       La Meca          Arabia Saudita   \n",
       "4            Ping An Finance Center      Shenzhen                   China   \n",
       "..                              ...           ...                     ...   \n",
       "95        875 North Michigan Avenue       Chicago          Estados Unidos   \n",
       "96   Shimao Global Financial Center      Changsha                   China   \n",
       "97  Four Seasons Place Kuala Lumpur  Kuala Lumpur                 Malasia   \n",
       "98               ADNOC Headquarters     Abu Dhabi  Emiratos Árabes Unidos   \n",
       "99         One Shenzhen Bay Tower 7      Shenzhen                   China   \n",
       "\n",
       "   Altura Pisos   Año  \n",
       "0   828 m   163  2010  \n",
       "1   679 m   118  2023  \n",
       "2   632 m   128  2015  \n",
       "3   601 m   120  2012  \n",
       "4   599 m   115  2017  \n",
       "..    ...   ...   ...  \n",
       "95  344 m   100  1969  \n",
       "96  343 m    71  2019  \n",
       "97  343 m    65  2018  \n",
       "98  342 m    65  2015  \n",
       "99  341 m    71  2018  \n",
       "\n",
       "[100 rows x 6 columns]"
      ]
     },
     "execution_count": 22,
     "metadata": {},
     "output_type": "execute_result"
    }
   ],
   "source": [
    "dfs2 = []\n",
    "\n",
    "for i in range(len(Nombre)):\n",
    "    data = {'Nombre':Nombre[i].text, 'Ciudad':Ciudad[i].text, 'Pais':Pais[i].text, \n",
    "                                       'Altura':Altura[i].text, 'Pisos':Pisos[i].text, 'Año':Año[i].text}\n",
    "    df_row = pd.DataFrame(data, index=[0])  \n",
    "    dfs2.append(df_row)\n",
    "\n",
    "df_Edificios = pd.concat(dfs2, ignore_index=True)\n",
    "\n",
    "df_Edificios"
   ]
  },
  {
   "cell_type": "markdown",
   "id": "e6dad21b",
   "metadata": {},
   "source": [
    "- Cierro el navegador para terminar la sesión "
   ]
  },
  {
   "cell_type": "code",
   "execution_count": 23,
   "id": "71bb9684",
   "metadata": {},
   "outputs": [],
   "source": [
    "driverr.close()"
   ]
  },
  {
   "cell_type": "markdown",
   "id": "9430fcb8",
   "metadata": {},
   "source": [
    "**<center>Extraigo la lista de los 100 edificios más altos del mundo de la Wikipedia utilizando beautifulsoup</center>**"
   ]
  },
  {
   "cell_type": "markdown",
   "id": "38a3bc75",
   "metadata": {},
   "source": [
    "- Guardo la url y uso read_html para pasar la página web. Uso flavor con el motor ‘bs4’."
   ]
  },
  {
   "cell_type": "code",
   "execution_count": 24,
   "id": "6df5fcd3",
   "metadata": {},
   "outputs": [],
   "source": [
    "Edificios_df = pd.read_html(url2, flavor='bs4')"
   ]
  },
  {
   "cell_type": "markdown",
   "id": "471bf426",
   "metadata": {},
   "source": [
    "- Compruebo cantidad de tablas en la página web"
   ]
  },
  {
   "cell_type": "code",
   "execution_count": 25,
   "id": "92256b52",
   "metadata": {},
   "outputs": [
    {
     "data": {
      "text/plain": [
       "5"
      ]
     },
     "execution_count": 25,
     "metadata": {},
     "output_type": "execute_result"
    }
   ],
   "source": [
    "len(Edificios_df)"
   ]
  },
  {
   "cell_type": "markdown",
   "id": "0ab53923",
   "metadata": {},
   "source": [
    "- Extraigo la tabla que me interesa"
   ]
  },
  {
   "cell_type": "code",
   "execution_count": 26,
   "id": "93475f4b",
   "metadata": {},
   "outputs": [
    {
     "data": {
      "text/html": [
       "<div>\n",
       "<style scoped>\n",
       "    .dataframe tbody tr th:only-of-type {\n",
       "        vertical-align: middle;\n",
       "    }\n",
       "\n",
       "    .dataframe tbody tr th {\n",
       "        vertical-align: top;\n",
       "    }\n",
       "\n",
       "    .dataframe thead tr th {\n",
       "        text-align: left;\n",
       "    }\n",
       "</style>\n",
       "<table border=\"1\" class=\"dataframe\">\n",
       "  <thead>\n",
       "    <tr>\n",
       "      <th></th>\n",
       "      <th>Foto</th>\n",
       "      <th>#</th>\n",
       "      <th>Edificio</th>\n",
       "      <th>Ciudad</th>\n",
       "      <th>País</th>\n",
       "      <th colspan=\"3\" halign=\"left\">Altura</th>\n",
       "      <th>Pisos</th>\n",
       "      <th>Año</th>\n",
       "      <th>Ref.</th>\n",
       "    </tr>\n",
       "    <tr>\n",
       "      <th></th>\n",
       "      <th>Foto</th>\n",
       "      <th>#</th>\n",
       "      <th>Edificio</th>\n",
       "      <th>Ciudad</th>\n",
       "      <th>País</th>\n",
       "      <th>Oficial</th>\n",
       "      <th>Antena</th>\n",
       "      <th>Último piso</th>\n",
       "      <th>Pisos</th>\n",
       "      <th>Año</th>\n",
       "      <th>Ref.</th>\n",
       "    </tr>\n",
       "  </thead>\n",
       "  <tbody>\n",
       "    <tr>\n",
       "      <th>0</th>\n",
       "      <td>NaN</td>\n",
       "      <td>1</td>\n",
       "      <td>Burj Khalifa</td>\n",
       "      <td>Dubái</td>\n",
       "      <td>Emiratos Árabes Unidos</td>\n",
       "      <td>828 m</td>\n",
       "      <td>830 m</td>\n",
       "      <td>585 m</td>\n",
       "      <td>163</td>\n",
       "      <td>2010</td>\n",
       "      <td>[3]​</td>\n",
       "    </tr>\n",
       "    <tr>\n",
       "      <th>1</th>\n",
       "      <td>NaN</td>\n",
       "      <td>2</td>\n",
       "      <td>Merdeka 118</td>\n",
       "      <td>Kuala Lumpur</td>\n",
       "      <td>Malasia</td>\n",
       "      <td>679 m</td>\n",
       "      <td>679 m</td>\n",
       "      <td>503 m</td>\n",
       "      <td>118</td>\n",
       "      <td>2023</td>\n",
       "      <td>[4]​</td>\n",
       "    </tr>\n",
       "    <tr>\n",
       "      <th>2</th>\n",
       "      <td>NaN</td>\n",
       "      <td>3</td>\n",
       "      <td>Torre de Shanghái</td>\n",
       "      <td>Shanghái</td>\n",
       "      <td>China</td>\n",
       "      <td>632 m</td>\n",
       "      <td>632 m</td>\n",
       "      <td>583 m</td>\n",
       "      <td>128</td>\n",
       "      <td>2015</td>\n",
       "      <td>[5]​</td>\n",
       "    </tr>\n",
       "    <tr>\n",
       "      <th>3</th>\n",
       "      <td>NaN</td>\n",
       "      <td>4</td>\n",
       "      <td>Makkah Royal Clock Tower</td>\n",
       "      <td>La Meca</td>\n",
       "      <td>Arabia Saudita</td>\n",
       "      <td>601 m</td>\n",
       "      <td>601 m</td>\n",
       "      <td>494 m</td>\n",
       "      <td>120</td>\n",
       "      <td>2012</td>\n",
       "      <td>[6]​</td>\n",
       "    </tr>\n",
       "    <tr>\n",
       "      <th>4</th>\n",
       "      <td>NaN</td>\n",
       "      <td>5</td>\n",
       "      <td>Ping An Finance Center</td>\n",
       "      <td>Shenzhen</td>\n",
       "      <td>China</td>\n",
       "      <td>599 m</td>\n",
       "      <td>599 m</td>\n",
       "      <td>562 m</td>\n",
       "      <td>115</td>\n",
       "      <td>2017</td>\n",
       "      <td>[7]​</td>\n",
       "    </tr>\n",
       "    <tr>\n",
       "      <th>...</th>\n",
       "      <td>...</td>\n",
       "      <td>...</td>\n",
       "      <td>...</td>\n",
       "      <td>...</td>\n",
       "      <td>...</td>\n",
       "      <td>...</td>\n",
       "      <td>...</td>\n",
       "      <td>...</td>\n",
       "      <td>...</td>\n",
       "      <td>...</td>\n",
       "      <td>...</td>\n",
       "    </tr>\n",
       "    <tr>\n",
       "      <th>95</th>\n",
       "      <td>NaN</td>\n",
       "      <td>96</td>\n",
       "      <td>875 North Michigan Avenue</td>\n",
       "      <td>Chicago</td>\n",
       "      <td>Estados Unidos</td>\n",
       "      <td>344 m</td>\n",
       "      <td>457 m</td>\n",
       "      <td>321 m</td>\n",
       "      <td>100</td>\n",
       "      <td>1969</td>\n",
       "      <td>[98]​</td>\n",
       "    </tr>\n",
       "    <tr>\n",
       "      <th>96</th>\n",
       "      <td>NaN</td>\n",
       "      <td>97</td>\n",
       "      <td>Shimao Global Financial Center</td>\n",
       "      <td>Changsha</td>\n",
       "      <td>China</td>\n",
       "      <td>343 m</td>\n",
       "      <td>343 m</td>\n",
       "      <td>343 m</td>\n",
       "      <td>71</td>\n",
       "      <td>2019</td>\n",
       "      <td>[99]​</td>\n",
       "    </tr>\n",
       "    <tr>\n",
       "      <th>97</th>\n",
       "      <td>NaN</td>\n",
       "      <td>98</td>\n",
       "      <td>Four Seasons Place Kuala Lumpur</td>\n",
       "      <td>Kuala Lumpur</td>\n",
       "      <td>Malasia</td>\n",
       "      <td>343 m</td>\n",
       "      <td>343 m</td>\n",
       "      <td>343 m</td>\n",
       "      <td>65</td>\n",
       "      <td>2018</td>\n",
       "      <td>[100]​</td>\n",
       "    </tr>\n",
       "    <tr>\n",
       "      <th>98</th>\n",
       "      <td>NaN</td>\n",
       "      <td>99</td>\n",
       "      <td>ADNOC Headquarters</td>\n",
       "      <td>Abu Dhabi</td>\n",
       "      <td>Emiratos Árabes Unidos</td>\n",
       "      <td>342 m</td>\n",
       "      <td>342 m</td>\n",
       "      <td>342 m</td>\n",
       "      <td>65</td>\n",
       "      <td>2015</td>\n",
       "      <td>[101]​</td>\n",
       "    </tr>\n",
       "    <tr>\n",
       "      <th>99</th>\n",
       "      <td>NaN</td>\n",
       "      <td>100</td>\n",
       "      <td>One Shenzhen Bay Tower 7</td>\n",
       "      <td>Shenzhen</td>\n",
       "      <td>China</td>\n",
       "      <td>341 m</td>\n",
       "      <td>341 m</td>\n",
       "      <td>341 m</td>\n",
       "      <td>71</td>\n",
       "      <td>2018</td>\n",
       "      <td>[102]​</td>\n",
       "    </tr>\n",
       "  </tbody>\n",
       "</table>\n",
       "<p>100 rows × 11 columns</p>\n",
       "</div>"
      ],
      "text/plain": [
       "   Foto    #                         Edificio        Ciudad  \\\n",
       "   Foto    #                         Edificio        Ciudad   \n",
       "0   NaN    1                     Burj Khalifa         Dubái   \n",
       "1   NaN    2                      Merdeka 118  Kuala Lumpur   \n",
       "2   NaN    3                Torre de Shanghái      Shanghái   \n",
       "3   NaN    4         Makkah Royal Clock Tower       La Meca   \n",
       "4   NaN    5           Ping An Finance Center      Shenzhen   \n",
       "..  ...  ...                              ...           ...   \n",
       "95  NaN   96        875 North Michigan Avenue       Chicago   \n",
       "96  NaN   97   Shimao Global Financial Center      Changsha   \n",
       "97  NaN   98  Four Seasons Place Kuala Lumpur  Kuala Lumpur   \n",
       "98  NaN   99               ADNOC Headquarters     Abu Dhabi   \n",
       "99  NaN  100         One Shenzhen Bay Tower 7      Shenzhen   \n",
       "\n",
       "                      País  Altura                    Pisos   Año    Ref.  \n",
       "                      País Oficial Antena Último piso Pisos   Año    Ref.  \n",
       "0   Emiratos Árabes Unidos   828 m  830 m       585 m   163  2010    [3]​  \n",
       "1                  Malasia   679 m  679 m       503 m   118  2023    [4]​  \n",
       "2                    China   632 m  632 m       583 m   128  2015    [5]​  \n",
       "3           Arabia Saudita   601 m  601 m       494 m   120  2012    [6]​  \n",
       "4                    China   599 m  599 m       562 m   115  2017    [7]​  \n",
       "..                     ...     ...    ...         ...   ...   ...     ...  \n",
       "95          Estados Unidos   344 m  457 m       321 m   100  1969   [98]​  \n",
       "96                   China   343 m  343 m       343 m    71  2019   [99]​  \n",
       "97                 Malasia   343 m  343 m       343 m    65  2018  [100]​  \n",
       "98  Emiratos Árabes Unidos   342 m  342 m       342 m    65  2015  [101]​  \n",
       "99                   China   341 m  341 m       341 m    71  2018  [102]​  \n",
       "\n",
       "[100 rows x 11 columns]"
      ]
     },
     "execution_count": 26,
     "metadata": {},
     "output_type": "execute_result"
    }
   ],
   "source": [
    "Edificios_df[0]"
   ]
  },
  {
   "cell_type": "code",
   "execution_count": 27,
   "id": "65ff2010",
   "metadata": {},
   "outputs": [],
   "source": [
    "Edificios = pd.DataFrame(Edificios_df[0])"
   ]
  },
  {
   "cell_type": "markdown",
   "id": "5f7a9d0e",
   "metadata": {},
   "source": [
    "- Borro columnas innecesarias y obtengo el dataframe final."
   ]
  },
  {
   "cell_type": "code",
   "execution_count": 28,
   "id": "056cb30d",
   "metadata": {},
   "outputs": [],
   "source": [
    "Edificios.drop(['Foto','#', 'Ref.'], axis=1, inplace=True)"
   ]
  },
  {
   "cell_type": "code",
   "execution_count": 29,
   "id": "7a000f18",
   "metadata": {},
   "outputs": [
    {
     "data": {
      "text/plain": [
       "MultiIndex([('Edificio',    'Edificio'),\n",
       "            (  'Ciudad',      'Ciudad'),\n",
       "            (    'País',        'País'),\n",
       "            (  'Altura',     'Oficial'),\n",
       "            (  'Altura',      'Antena'),\n",
       "            (  'Altura', 'Último piso'),\n",
       "            (   'Pisos',       'Pisos'),\n",
       "            (     'Año',         'Año')],\n",
       "           )"
      ]
     },
     "execution_count": 29,
     "metadata": {},
     "output_type": "execute_result"
    }
   ],
   "source": [
    "Edificios.columns"
   ]
  },
  {
   "cell_type": "code",
   "execution_count": 30,
   "id": "b3daf550",
   "metadata": {},
   "outputs": [
    {
     "data": {
      "text/html": [
       "<div>\n",
       "<style scoped>\n",
       "    .dataframe tbody tr th:only-of-type {\n",
       "        vertical-align: middle;\n",
       "    }\n",
       "\n",
       "    .dataframe tbody tr th {\n",
       "        vertical-align: top;\n",
       "    }\n",
       "\n",
       "    .dataframe thead th {\n",
       "        text-align: right;\n",
       "    }\n",
       "</style>\n",
       "<table border=\"1\" class=\"dataframe\">\n",
       "  <thead>\n",
       "    <tr style=\"text-align: right;\">\n",
       "      <th></th>\n",
       "      <th>Edificio</th>\n",
       "      <th>Ciudad</th>\n",
       "      <th>País</th>\n",
       "      <th>Altura oficial</th>\n",
       "      <th>Altura antena</th>\n",
       "      <th>Último piso</th>\n",
       "      <th>Pisos</th>\n",
       "      <th>Año</th>\n",
       "    </tr>\n",
       "  </thead>\n",
       "  <tbody>\n",
       "    <tr>\n",
       "      <th>0</th>\n",
       "      <td>Burj Khalifa</td>\n",
       "      <td>Dubái</td>\n",
       "      <td>Emiratos Árabes Unidos</td>\n",
       "      <td>828 m</td>\n",
       "      <td>830 m</td>\n",
       "      <td>585 m</td>\n",
       "      <td>163</td>\n",
       "      <td>2010</td>\n",
       "    </tr>\n",
       "    <tr>\n",
       "      <th>1</th>\n",
       "      <td>Merdeka 118</td>\n",
       "      <td>Kuala Lumpur</td>\n",
       "      <td>Malasia</td>\n",
       "      <td>679 m</td>\n",
       "      <td>679 m</td>\n",
       "      <td>503 m</td>\n",
       "      <td>118</td>\n",
       "      <td>2023</td>\n",
       "    </tr>\n",
       "    <tr>\n",
       "      <th>2</th>\n",
       "      <td>Torre de Shanghái</td>\n",
       "      <td>Shanghái</td>\n",
       "      <td>China</td>\n",
       "      <td>632 m</td>\n",
       "      <td>632 m</td>\n",
       "      <td>583 m</td>\n",
       "      <td>128</td>\n",
       "      <td>2015</td>\n",
       "    </tr>\n",
       "    <tr>\n",
       "      <th>3</th>\n",
       "      <td>Makkah Royal Clock Tower</td>\n",
       "      <td>La Meca</td>\n",
       "      <td>Arabia Saudita</td>\n",
       "      <td>601 m</td>\n",
       "      <td>601 m</td>\n",
       "      <td>494 m</td>\n",
       "      <td>120</td>\n",
       "      <td>2012</td>\n",
       "    </tr>\n",
       "    <tr>\n",
       "      <th>4</th>\n",
       "      <td>Ping An Finance Center</td>\n",
       "      <td>Shenzhen</td>\n",
       "      <td>China</td>\n",
       "      <td>599 m</td>\n",
       "      <td>599 m</td>\n",
       "      <td>562 m</td>\n",
       "      <td>115</td>\n",
       "      <td>2017</td>\n",
       "    </tr>\n",
       "    <tr>\n",
       "      <th>...</th>\n",
       "      <td>...</td>\n",
       "      <td>...</td>\n",
       "      <td>...</td>\n",
       "      <td>...</td>\n",
       "      <td>...</td>\n",
       "      <td>...</td>\n",
       "      <td>...</td>\n",
       "      <td>...</td>\n",
       "    </tr>\n",
       "    <tr>\n",
       "      <th>95</th>\n",
       "      <td>875 North Michigan Avenue</td>\n",
       "      <td>Chicago</td>\n",
       "      <td>Estados Unidos</td>\n",
       "      <td>344 m</td>\n",
       "      <td>457 m</td>\n",
       "      <td>321 m</td>\n",
       "      <td>100</td>\n",
       "      <td>1969</td>\n",
       "    </tr>\n",
       "    <tr>\n",
       "      <th>96</th>\n",
       "      <td>Shimao Global Financial Center</td>\n",
       "      <td>Changsha</td>\n",
       "      <td>China</td>\n",
       "      <td>343 m</td>\n",
       "      <td>343 m</td>\n",
       "      <td>343 m</td>\n",
       "      <td>71</td>\n",
       "      <td>2019</td>\n",
       "    </tr>\n",
       "    <tr>\n",
       "      <th>97</th>\n",
       "      <td>Four Seasons Place Kuala Lumpur</td>\n",
       "      <td>Kuala Lumpur</td>\n",
       "      <td>Malasia</td>\n",
       "      <td>343 m</td>\n",
       "      <td>343 m</td>\n",
       "      <td>343 m</td>\n",
       "      <td>65</td>\n",
       "      <td>2018</td>\n",
       "    </tr>\n",
       "    <tr>\n",
       "      <th>98</th>\n",
       "      <td>ADNOC Headquarters</td>\n",
       "      <td>Abu Dhabi</td>\n",
       "      <td>Emiratos Árabes Unidos</td>\n",
       "      <td>342 m</td>\n",
       "      <td>342 m</td>\n",
       "      <td>342 m</td>\n",
       "      <td>65</td>\n",
       "      <td>2015</td>\n",
       "    </tr>\n",
       "    <tr>\n",
       "      <th>99</th>\n",
       "      <td>One Shenzhen Bay Tower 7</td>\n",
       "      <td>Shenzhen</td>\n",
       "      <td>China</td>\n",
       "      <td>341 m</td>\n",
       "      <td>341 m</td>\n",
       "      <td>341 m</td>\n",
       "      <td>71</td>\n",
       "      <td>2018</td>\n",
       "    </tr>\n",
       "  </tbody>\n",
       "</table>\n",
       "<p>100 rows × 8 columns</p>\n",
       "</div>"
      ],
      "text/plain": [
       "                           Edificio        Ciudad                    País  \\\n",
       "0                      Burj Khalifa         Dubái  Emiratos Árabes Unidos   \n",
       "1                       Merdeka 118  Kuala Lumpur                 Malasia   \n",
       "2                 Torre de Shanghái      Shanghái                   China   \n",
       "3          Makkah Royal Clock Tower       La Meca          Arabia Saudita   \n",
       "4            Ping An Finance Center      Shenzhen                   China   \n",
       "..                              ...           ...                     ...   \n",
       "95        875 North Michigan Avenue       Chicago          Estados Unidos   \n",
       "96   Shimao Global Financial Center      Changsha                   China   \n",
       "97  Four Seasons Place Kuala Lumpur  Kuala Lumpur                 Malasia   \n",
       "98               ADNOC Headquarters     Abu Dhabi  Emiratos Árabes Unidos   \n",
       "99         One Shenzhen Bay Tower 7      Shenzhen                   China   \n",
       "\n",
       "   Altura oficial Altura antena Último piso  Pisos   Año  \n",
       "0           828 m         830 m       585 m    163  2010  \n",
       "1           679 m         679 m       503 m    118  2023  \n",
       "2           632 m         632 m       583 m    128  2015  \n",
       "3           601 m         601 m       494 m    120  2012  \n",
       "4           599 m         599 m       562 m    115  2017  \n",
       "..            ...           ...         ...    ...   ...  \n",
       "95          344 m         457 m       321 m    100  1969  \n",
       "96          343 m         343 m       343 m     71  2019  \n",
       "97          343 m         343 m       343 m     65  2018  \n",
       "98          342 m         342 m       342 m     65  2015  \n",
       "99          341 m         341 m       341 m     71  2018  \n",
       "\n",
       "[100 rows x 8 columns]"
      ]
     },
     "execution_count": 30,
     "metadata": {},
     "output_type": "execute_result"
    }
   ],
   "source": [
    "Edificios.columns = ['Edificio', 'Ciudad', 'País', 'Altura oficial', 'Altura antena', 'Último piso', 'Pisos', 'Año']\n",
    "Edificios"
   ]
  },
  {
   "cell_type": "markdown",
   "id": "7a2d47e8",
   "metadata": {},
   "source": [
    "###  <center> Ejercicio 2 </center>"
   ]
  },
  {
   "cell_type": "markdown",
   "id": "a8489d4d",
   "metadata": {},
   "source": [
    "- En el pdf adjunto en la carpeta de Github"
   ]
  },
  {
   "cell_type": "markdown",
   "id": "46489777",
   "metadata": {},
   "source": [
    "###  <center> Ejercicio 3 </center>"
   ]
  },
  {
   "cell_type": "markdown",
   "id": "20ef138d-0301-4d8c-9fb0-1a16e091e085",
   "metadata": {},
   "source": [
    "**<center>Extraigo la lista de los 10 quesos más consumidos del mundo de Escuela Gremio utilizando Selenium</center>**"
   ]
  },
  {
   "cell_type": "markdown",
   "id": "d4291aee-d205-4979-823a-051698416754",
   "metadata": {},
   "source": [
    "- Almaceno el sitio web en la variable url3"
   ]
  },
  {
   "cell_type": "code",
   "execution_count": 31,
   "id": "851e0fd4-4c45-497c-8b15-4557b66e2ff3",
   "metadata": {},
   "outputs": [],
   "source": [
    "url3 = ('https://escuelagremio.com/tipos-de-quesos-conocidos/')"
   ]
  },
  {
   "cell_type": "markdown",
   "id": "3376fa33-b405-4aee-b088-33b6755e2638",
   "metadata": {},
   "source": [
    "- Inicio el Chromedriver, abro el sitio web y maximizo la ventana"
   ]
  },
  {
   "cell_type": "code",
   "execution_count": 32,
   "id": "6b01e5ff-95cf-4a03-b9be-04bf47744d4b",
   "metadata": {},
   "outputs": [],
   "source": [
    "drive = webdriver.Chrome()\n",
    "drive.get(url3)\n",
    "drive.maximize_window()"
   ]
  },
  {
   "cell_type": "markdown",
   "id": "8617cc31-91b1-4b2f-8038-a7774f057632",
   "metadata": {},
   "source": [
    "- Creo mis localizadores y los pruebo"
   ]
  },
  {
   "cell_type": "code",
   "execution_count": 33,
   "id": "1ed8ff58-f637-41c6-b13c-6a30080459b5",
   "metadata": {},
   "outputs": [],
   "source": [
    "Queso = drive.find_elements(by=By.XPATH, value=\"//h3[@style='text-align: justify;']\")\n",
    "Texto = drive.find_elements(by=By.XPATH, value=\"//p[@style='text-align: justify;']\")\n",
    "Descripción = Texto[5:15]"
   ]
  },
  {
   "cell_type": "code",
   "execution_count": 34,
   "id": "1a22fed8-32eb-4f02-a75b-22ed11de9617",
   "metadata": {},
   "outputs": [
    {
     "name": "stdout",
     "output_type": "stream",
     "text": [
      "Mozzarella\n",
      "Cheddar\n",
      "Emmental\n",
      "Gouda\n",
      "Parmesano\n",
      "Queso azul\n",
      "Brie\n",
      "Roquefort\n",
      "Feta\n",
      "Mascarpone\n"
     ]
    }
   ],
   "source": [
    "for q in Queso:\n",
    "    print(q.text)"
   ]
  },
  {
   "cell_type": "markdown",
   "id": "01080915-ccc3-469c-9e6c-0d56a37aa76d",
   "metadata": {},
   "source": [
    "- Construyo el dataframe final"
   ]
  },
  {
   "cell_type": "code",
   "execution_count": 35,
   "id": "84f10804-7499-4cab-bed2-8ec4544bb5e8",
   "metadata": {},
   "outputs": [
    {
     "data": {
      "text/html": [
       "<div>\n",
       "<style scoped>\n",
       "    .dataframe tbody tr th:only-of-type {\n",
       "        vertical-align: middle;\n",
       "    }\n",
       "\n",
       "    .dataframe tbody tr th {\n",
       "        vertical-align: top;\n",
       "    }\n",
       "\n",
       "    .dataframe thead th {\n",
       "        text-align: right;\n",
       "    }\n",
       "</style>\n",
       "<table border=\"1\" class=\"dataframe\">\n",
       "  <thead>\n",
       "    <tr style=\"text-align: right;\">\n",
       "      <th></th>\n",
       "      <th>Tipo de queso</th>\n",
       "      <th>Descripción</th>\n",
       "    </tr>\n",
       "  </thead>\n",
       "  <tbody>\n",
       "    <tr>\n",
       "      <th>0</th>\n",
       "      <td>Mozzarella</td>\n",
       "      <td>Original de Italia y producida con leche de bú...</td>\n",
       "    </tr>\n",
       "    <tr>\n",
       "      <th>1</th>\n",
       "      <td>Cheddar</td>\n",
       "      <td>El Cheddar es original de Inglaterra y se elab...</td>\n",
       "    </tr>\n",
       "    <tr>\n",
       "      <th>2</th>\n",
       "      <td>Emmental</td>\n",
       "      <td>Este queso suizo se elabora con leche de vaca ...</td>\n",
       "    </tr>\n",
       "    <tr>\n",
       "      <th>3</th>\n",
       "      <td>Gouda</td>\n",
       "      <td>Este queso lleva el nombre de la ciudad holand...</td>\n",
       "    </tr>\n",
       "    <tr>\n",
       "      <th>4</th>\n",
       "      <td>Parmesano</td>\n",
       "      <td>Comúnmente consumido en todo el mundo, el Parm...</td>\n",
       "    </tr>\n",
       "    <tr>\n",
       "      <th>5</th>\n",
       "      <td>Queso azul</td>\n",
       "      <td>El queso azul puede elaborarse con leche de va...</td>\n",
       "    </tr>\n",
       "    <tr>\n",
       "      <th>6</th>\n",
       "      <td>Brie</td>\n",
       "      <td>Este conocido queso es original de la región d...</td>\n",
       "    </tr>\n",
       "    <tr>\n",
       "      <th>7</th>\n",
       "      <td>Roquefort</td>\n",
       "      <td>El Roquefort es un queso clásico francés. Se e...</td>\n",
       "    </tr>\n",
       "    <tr>\n",
       "      <th>8</th>\n",
       "      <td>Feta</td>\n",
       "      <td>El Feta es un queso griego que se elabora con ...</td>\n",
       "    </tr>\n",
       "    <tr>\n",
       "      <th>9</th>\n",
       "      <td>Mascarpone</td>\n",
       "      <td>El Mascarpone es un queso italiano distinto a ...</td>\n",
       "    </tr>\n",
       "  </tbody>\n",
       "</table>\n",
       "</div>"
      ],
      "text/plain": [
       "  Tipo de queso                                        Descripción\n",
       "0    Mozzarella  Original de Italia y producida con leche de bú...\n",
       "1       Cheddar  El Cheddar es original de Inglaterra y se elab...\n",
       "2      Emmental  Este queso suizo se elabora con leche de vaca ...\n",
       "3         Gouda  Este queso lleva el nombre de la ciudad holand...\n",
       "4     Parmesano  Comúnmente consumido en todo el mundo, el Parm...\n",
       "5    Queso azul  El queso azul puede elaborarse con leche de va...\n",
       "6          Brie  Este conocido queso es original de la región d...\n",
       "7     Roquefort  El Roquefort es un queso clásico francés. Se e...\n",
       "8          Feta  El Feta es un queso griego que se elabora con ...\n",
       "9    Mascarpone  El Mascarpone es un queso italiano distinto a ..."
      ]
     },
     "execution_count": 35,
     "metadata": {},
     "output_type": "execute_result"
    }
   ],
   "source": [
    "dfs3 = []\n",
    "\n",
    "for i in range(len(Queso)):\n",
    "    data = {'Tipo de queso':Queso[i].text,'Descripción':Descripción[i].text}\n",
    "    df_row = pd.DataFrame(data, index=[0])  \n",
    "    dfs3.append(df_row)\n",
    "\n",
    "df_Quesos = pd.concat(dfs3, ignore_index=True)\n",
    "\n",
    "df_Quesos"
   ]
  },
  {
   "cell_type": "markdown",
   "id": "b7ebea19-2a45-45d4-953f-8d18a2308494",
   "metadata": {},
   "source": [
    "- Cierro el navegador para terminar la sesión "
   ]
  },
  {
   "cell_type": "code",
   "execution_count": 36,
   "id": "90606ca4-4c43-4617-b202-f861ca4d516f",
   "metadata": {},
   "outputs": [],
   "source": [
    "drive.close()"
   ]
  },
  {
   "cell_type": "markdown",
   "id": "1af1e7c1-a3b3-4c26-8669-6bc7ff7d82c8",
   "metadata": {},
   "source": [
    "**<center>Extraigo la lista de las citas de \"quotes.toscrape\" utilizando Scrapy</center>**"
   ]
  },
  {
   "cell_type": "code",
   "execution_count": 37,
   "id": "105aa869-114c-4221-8f57-ea72cd956865",
   "metadata": {},
   "outputs": [],
   "source": [
    "import scrapy, time\n",
    "import scrapy\n",
    "from scrapy.crawler import CrawlerProcess\n",
    "import json\n",
    "import logging\n",
    "import warnings\n",
    "warnings.filterwarnings(\"ignore\")"
   ]
  },
  {
   "cell_type": "markdown",
   "id": "09bb0061-7c4e-486d-9c0c-34d8e5d2623b",
   "metadata": {},
   "source": [
    "- Defino la clase \"JsonWriterPipeline\" para procesar los elementos del spider y convertir los elemntos a formato JSON con process:item. "
   ]
  },
  {
   "cell_type": "code",
   "execution_count": 38,
   "id": "76a79369-087f-439e-97f7-cf6782e8eb72",
   "metadata": {},
   "outputs": [],
   "source": [
    "class JsonWriterPipeline(object):\n",
    "\n",
    "    def open_spider(self, spider):\n",
    "        self.file = open('resultados.jl', 'w')\n",
    "\n",
    "    def close_spider(self, spider):\n",
    "        self.file.close()\n",
    "\n",
    "    def process_item(self, item, spider):\n",
    "        line = json.dumps(dict(item)) + \"\\n\"\n",
    "        self.file.write(line)\n",
    "        return item"
   ]
  },
  {
   "cell_type": "markdown",
   "id": "fd512354-03de-4472-85d5-535f2c9e7917",
   "metadata": {},
   "source": [
    "- Defino el spider CitasSpider y lo llamo \"citas\". Especifico URL (utilizo las dos primeras páginas) y saco el arcuivo en formato JSON (resultadocitas). En el método parse, defino la extracción de datos. Utilizo localizadores CSS para obtener los elementos específicos de la página: cita, autor y etiquetas.  "
   ]
  },
  {
   "cell_type": "code",
   "execution_count": 39,
   "id": "cc706283-2da2-4fcf-a0ea-ee9339983468",
   "metadata": {},
   "outputs": [],
   "source": [
    "class CitasSpider(scrapy.Spider):\n",
    "    name = \"citas\"\n",
    "    start_urls = [\n",
    "        'http://quotes.toscrape.com/page/1/',\n",
    "        'http://quotes.toscrape.com/page/2/',\n",
    "    ]\n",
    "    custom_settings = {\n",
    "        'LOG_LEVEL': logging.WARNING,\n",
    "        'ITEM_PIPELINES': {'__main__.JsonWriterPipeline': 1}, \n",
    "        'FEED_FORMAT':'json',                                 \n",
    "        'FEED_URI': 'resultadocitas.json'                        \n",
    "    }\n",
    "    \n",
    "    def parse(self, response):\n",
    "        for cita in response.css('div.quote'):\n",
    "            yield {\n",
    "                'text': cita.css('span.text::text').extract_first(),\n",
    "                'author': cita.css('span small::text').extract_first(),\n",
    "                'tags': cita.css('div.tags a.tag::text').extract(),\n",
    "            }"
   ]
  },
  {
   "cell_type": "markdown",
   "id": "6f0631b9-9cfd-4386-b99e-2a43e451396b",
   "metadata": {},
   "source": [
    "**El archivo \"resultadocitas.json\" lo adjunto en la carpeta de Github.**"
   ]
  },
  {
   "cell_type": "markdown",
   "id": "5690e1fe-4edb-45e7-9df4-ecc7163512b2",
   "metadata": {},
   "source": [
    "- Configuro y ejecuto el proceso de rastreo con CrawlerProcess. "
   ]
  },
  {
   "cell_type": "code",
   "execution_count": 40,
   "id": "1dc631ed-b067-407b-b04b-db74f452ed7c",
   "metadata": {},
   "outputs": [
    {
     "name": "stderr",
     "output_type": "stream",
     "text": [
      "2024-01-24 13:10:28 [scrapy.utils.log] INFO: Scrapy 2.11.0 started (bot: scrapybot)\n",
      "2024-01-24 13:10:28 [scrapy.utils.log] INFO: Versions: lxml 4.9.3.0, libxml2 2.10.4, cssselect 1.1.0, parsel 1.6.0, w3lib 1.21.0, Twisted 22.10.0, Python 3.11.4 | packaged by Anaconda, Inc. | (main, Jul  5 2023, 13:38:37) [MSC v.1916 64 bit (AMD64)], pyOpenSSL 23.2.0 (OpenSSL 1.1.1w  11 Sep 2023), cryptography 41.0.3, Platform Windows-10-10.0.22631-SP0\n"
     ]
    }
   ],
   "source": [
    "process = CrawlerProcess({\n",
    "    'USER_AGENT': 'Mozilla/4.0 (compatible; MSIE 7.0; Windows NT 5.1)'\n",
    "})\n",
    "\n",
    "process.crawl(CitasSpider)\n",
    "process.start()"
   ]
  },
  {
   "cell_type": "markdown",
   "id": "9914d818-386c-4b66-bfe5-e63eab72e04c",
   "metadata": {},
   "source": [
    "- Cargo el archivo 'resultadocitas.json' en la variable data e imprimo cada resultado en la consola."
   ]
  },
  {
   "cell_type": "code",
   "execution_count": 41,
   "id": "821a1db2-bd9d-49de-a70b-8c90f0e97c5b",
   "metadata": {},
   "outputs": [
    {
     "name": "stdout",
     "output_type": "stream",
     "text": [
      "{'text': '“The world as we have created it is a process of our thinking. It cannot be changed without changing our thinking.”', 'author': 'Albert Einstein', 'tags': ['change', 'deep-thoughts', 'thinking', 'world']}\n",
      "{'text': '“It is our choices, Harry, that show what we truly are, far more than our abilities.”', 'author': 'J.K. Rowling', 'tags': ['abilities', 'choices']}\n",
      "{'text': '“There are only two ways to live your life. One is as though nothing is a miracle. The other is as though everything is a miracle.”', 'author': 'Albert Einstein', 'tags': ['inspirational', 'life', 'live', 'miracle', 'miracles']}\n",
      "{'text': '“The person, be it gentleman or lady, who has not pleasure in a good novel, must be intolerably stupid.”', 'author': 'Jane Austen', 'tags': ['aliteracy', 'books', 'classic', 'humor']}\n",
      "{'text': \"“Imperfection is beauty, madness is genius and it's better to be absolutely ridiculous than absolutely boring.”\", 'author': 'Marilyn Monroe', 'tags': ['be-yourself', 'inspirational']}\n",
      "{'text': '“Try not to become a man of success. Rather become a man of value.”', 'author': 'Albert Einstein', 'tags': ['adulthood', 'success', 'value']}\n",
      "{'text': '“It is better to be hated for what you are than to be loved for what you are not.”', 'author': 'André Gide', 'tags': ['life', 'love']}\n",
      "{'text': \"“I have not failed. I've just found 10,000 ways that won't work.”\", 'author': 'Thomas A. Edison', 'tags': ['edison', 'failure', 'inspirational', 'paraphrased']}\n",
      "{'text': \"“A woman is like a tea bag; you never know how strong it is until it's in hot water.”\", 'author': 'Eleanor Roosevelt', 'tags': ['misattributed-eleanor-roosevelt']}\n",
      "{'text': '“A day without sunshine is like, you know, night.”', 'author': 'Steve Martin', 'tags': ['humor', 'obvious', 'simile']}\n",
      "{'text': \"“This life is what you make it. No matter what, you're going to mess up sometimes, it's a universal truth. But the good part is you get to decide how you're going to mess it up. Girls will be your friends - they'll act like it anyway. But just remember, some come, some go. The ones that stay with you through everything - they're your true best friends. Don't let go of them. Also remember, sisters make the best friends in the world. As for lovers, well, they'll come and go too. And baby, I hate to say it, most of them - actually pretty much all of them are going to break your heart, but you can't give up because if you give up, you'll never find your soulmate. You'll never find that half who makes you whole and that goes for everything. Just because you fail once, doesn't mean you're gonna fail at everything. Keep trying, hold on, and always, always, always believe in yourself, because if you don't, then who will, sweetie? So keep your head high, keep your chin up, and most importantly, keep smiling, because life's a beautiful thing and there's so much to smile about.”\", 'author': 'Marilyn Monroe', 'tags': ['friends', 'heartbreak', 'inspirational', 'life', 'love', 'sisters']}\n",
      "{'text': '“It takes a great deal of bravery to stand up to our enemies, but just as much to stand up to our friends.”', 'author': 'J.K. Rowling', 'tags': ['courage', 'friends']}\n",
      "{'text': \"“If you can't explain it to a six year old, you don't understand it yourself.”\", 'author': 'Albert Einstein', 'tags': ['simplicity', 'understand']}\n",
      "{'text': \"“You may not be her first, her last, or her only. She loved before she may love again. But if she loves you now, what else matters? She's not perfect—you aren't either, and the two of you may never be perfect together but if she can make you laugh, cause you to think twice, and admit to being human and making mistakes, hold onto her and give her the most you can. She may not be thinking about you every second of the day, but she will give you a part of her that she knows you can break—her heart. So don't hurt her, don't change her, don't analyze and don't expect more than she can give. Smile when she makes you happy, let her know when she makes you mad, and miss her when she's not there.”\", 'author': 'Bob Marley', 'tags': ['love']}\n",
      "{'text': '“I like nonsense, it wakes up the brain cells. Fantasy is a necessary ingredient in living.”', 'author': 'Dr. Seuss', 'tags': ['fantasy']}\n",
      "{'text': '“I may not have gone where I intended to go, but I think I have ended up where I needed to be.”', 'author': 'Douglas Adams', 'tags': ['life', 'navigation']}\n",
      "{'text': \"“The opposite of love is not hate, it's indifference. The opposite of art is not ugliness, it's indifference. The opposite of faith is not heresy, it's indifference. And the opposite of life is not death, it's indifference.”\", 'author': 'Elie Wiesel', 'tags': ['activism', 'apathy', 'hate', 'indifference', 'inspirational', 'love', 'opposite', 'philosophy']}\n",
      "{'text': '“It is not a lack of love, but a lack of friendship that makes unhappy marriages.”', 'author': 'Friedrich Nietzsche', 'tags': ['friendship', 'lack-of-friendship', 'lack-of-love', 'love', 'marriage', 'unhappy-marriage']}\n",
      "{'text': '“Good friends, good books, and a sleepy conscience: this is the ideal life.”', 'author': 'Mark Twain', 'tags': ['books', 'contentment', 'friends', 'friendship', 'life']}\n",
      "{'text': '“Life is what happens to us while we are making other plans.”', 'author': 'Allen Saunders', 'tags': ['fate', 'life', 'misattributed-john-lennon', 'planning', 'plans']}\n"
     ]
    }
   ],
   "source": [
    "file_path = 'resultadocitas.json'\n",
    "with open (file_path, 'r', encoding='utf-8') as file: \n",
    "    data = json.load(file)\n",
    "\n",
    "for resultadocitas in data:\n",
    "    print (resultadocitas)"
   ]
  },
  {
   "cell_type": "code",
   "execution_count": null,
   "id": "be2efcf2",
   "metadata": {},
   "outputs": [],
   "source": []
  }
 ],
 "metadata": {
  "kernelspec": {
   "display_name": "Python 3 (ipykernel)",
   "language": "python",
   "name": "python3"
  },
  "language_info": {
   "codemirror_mode": {
    "name": "ipython",
    "version": 3
   },
   "file_extension": ".py",
   "mimetype": "text/x-python",
   "name": "python",
   "nbconvert_exporter": "python",
   "pygments_lexer": "ipython3",
   "version": "3.11.4"
  }
 },
 "nbformat": 4,
 "nbformat_minor": 5
}
